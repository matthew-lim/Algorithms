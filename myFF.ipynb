{
 "cells": [
  {
   "cell_type": "markdown",
   "metadata": {},
   "source": [
    "# Max Flow Applications\n",
    "\n",
    "The purpose of this assignment is to investigate applications of finding a Max Flow. The problem asks you to design and implement an algorithm for shipping a material between nodes with different supply and demand requirements.\n",
    "\n",
    "* Please write code *only* in the bodies of the two functions, that is, following the TODO comments.\n",
    "* Be careful not to use varibles defined outside of the functions.\n",
    "* Breaking the two above rules may lead to 0 grades."
   ]
  },
  {
   "cell_type": "markdown",
   "metadata": {},
   "source": [
    "## Movie distribution\n",
    "\n",
    "Recall Problem 1 from hw3t. \n",
    "\n",
    "Now suppose a movie distributor would like to ship a copy of a film from CA to every other state. There are therefore 48 units to ship out of CA, and each other state receives 1 unit. \n",
    "\n",
    "The dataset contiguous-usa.dat lists the adjacent states in the US. Each line lists two adjacent states; thus AK and HI are omitted, but DC is included in the data. The following code reads in the graph of US states."
   ]
  },
  {
   "cell_type": "code",
   "execution_count": 2,
   "metadata": {},
   "outputs": [],
   "source": [
    "import networkx as nx\n",
    "G = nx.Graph()\n",
    "\n",
    "usa = open('contiguous-usa.dat')\n",
    "for line in usa:\n",
    "    s1, s2 = line.strip().split()\n",
    "    G.add_edge(s1, s2)"
   ]
  },
  {
   "cell_type": "markdown",
   "metadata": {},
   "source": [
    "We now encode the demands into the graph."
   ]
  },
  {
   "cell_type": "code",
   "execution_count": 3,
   "metadata": {},
   "outputs": [],
   "source": [
    "for state in G.nodes():\n",
    "    if state != 'CA':\n",
    "        G.nodes[state]['demand'] = 1\n",
    "G.nodes['CA']['demand'] = -48"
   ]
  },
  {
   "cell_type": "markdown",
   "metadata": {},
   "source": [
    "We will assign a uniform capacity of 16 to each edge. Since CA has only three adjacent states, this is the smallest possible uniform capacity that allows one to ship all 48 units out of CA. As we have created an undirected graph, and flows have directions, we first convert the graph to a directed graph."
   ]
  },
  {
   "cell_type": "code",
   "execution_count": 4,
   "metadata": {},
   "outputs": [],
   "source": [
    "G = nx.DiGraph(G)\n",
    "uniform_capacity = 16\n",
    "for (s1, s2) in G.edges():\n",
    "    G.edges[s1, s2]['capacity'] = uniform_capacity"
   ]
  },
  {
   "cell_type": "markdown",
   "metadata": {},
   "source": [
    "Complete the following function to implement your algorithm to find a flow with demands. Your function should work correctly for any input, not just the movie instance considered here. As always, you are encouraged to define auxiliary functions as needed for clarity."
   ]
  },
  {
   "cell_type": "code",
   "execution_count": 5,
   "metadata": {},
   "outputs": [],
   "source": [
    "def bfs(graph, s, t):\n",
    "    explored, queue = [s], [(s, [s])]\n",
    "    while queue:\n",
    "        current = queue[0]\n",
    "        queue = queue[1:]\n",
    "        node, path = current[0], current[1]\n",
    "        for node in graph.neighbors(node):\n",
    "            if node in explored:\n",
    "                continue\n",
    "            if node == t:\n",
    "                return path + [node]\n",
    "            if node not in explored:\n",
    "                queue.append((node, path + [node]))\n",
    "                explored.append(node)"
   ]
  },
  {
   "cell_type": "code",
   "execution_count": 6,
   "metadata": {},
   "outputs": [],
   "source": [
    "def find_bottleneck(graph, path):\n",
    "    bottleneck = float('inf')\n",
    "    for i in range(len(path)-1):\n",
    "        if bottleneck > graph.edges[path[i], path[i+1]]['capacity']:\n",
    "            bottleneck = graph.edges[path[i], path[i+1]]['capacity']\n",
    "    return bottleneck"
   ]
  },
  {
   "cell_type": "code",
   "execution_count": 7,
   "metadata": {},
   "outputs": [],
   "source": [
    "def myFF(graph, s, t):\n",
    "    G_c = graph.copy()\n",
    "    path = bfs(graph, s, t)\n",
    "    flow = 0\n",
    "    \n",
    "    # updating residual graph, finding maxflow\n",
    "    while path:\n",
    "        bottleneck = find_bottleneck(G_c, path)\n",
    "        flow += bottleneck\n",
    "        \n",
    "        for i in range(len(path)-1):\n",
    "            if G_c.edges[path[i], path[i+1]]['capacity'] == bottleneck:\n",
    "                G_c.remove_edge(path[i], path[i+1])\n",
    "            else:\n",
    "                G_c.edges[path[i], path[i+1]]['capacity'] -= bottleneck\n",
    "                \n",
    "        path = bfs(G_c, s, t)\n",
    "    \n",
    "    # finding the flow through each edge\n",
    "    for (s1, s2) in graph.edges():\n",
    "        if not G_c.has_edge(s1,s2):\n",
    "            G_c.add_edge(s1, s2)\n",
    "            G_c.edges[s1, s2]['capacity'] = graph.edges[s1, s2]['capacity']\n",
    "        else:\n",
    "            G_c.edges[s1, s2]['capacity'] = graph.edges[s1, s2]['capacity'] - G_c.edges[s1, s2]['capacity']\n",
    "    \n",
    "    flow_dict = {}\n",
    "    for node in G_c.nodes():\n",
    "        flow_dict[node] = {}\n",
    "    for node in G_c.nodes():\n",
    "        for neighbor in G_c.neighbors(node):\n",
    "            flow_dict[node][neighbor] = G_c.edges[node, neighbor]['capacity']\n",
    "            \n",
    "    return (flow, flow_dict)\n",
    "            "
   ]
  },
  {
   "cell_type": "code",
   "execution_count": 8,
   "metadata": {},
   "outputs": [],
   "source": [
    "def flow_with_demands(graph):\n",
    "    \"\"\"Computes a flow with demands over the given graph.\n",
    "    \n",
    "    Args:\n",
    "        graph: A directed graph with nodes annotated with 'demand' properties and edges annotated with 'capacity' \n",
    "            properties.\n",
    "        \n",
    "    Returns:\n",
    "        A dict of dicts containing the flow on each edge. For instance, flow[s1][s2] should provide the flow along\n",
    "        edge (s1, s2).\n",
    "        \n",
    "    Raises:\n",
    "        NetworkXUnfeasible: An error is thrown if there is no flow satisfying the demands.\n",
    "    \"\"\"\n",
    "    # TODO: Implement the function.\n",
    "    graph_c = graph.copy()\n",
    "    graph_c.add_node('s')\n",
    "    graph_c.add_node('t')\n",
    "\n",
    "    supply, demand = 0, 0\n",
    "    for node in graph_c.nodes():\n",
    "        if node in ['s', 't']:\n",
    "            continue\n",
    "        elif graph_c.nodes[node]['demand'] < 0:\n",
    "            graph_c.add_edge('s', node, capacity= -graph_c.nodes[node]['demand'])\n",
    "            supply += -graph_c.nodes[node]['demand']\n",
    "        else:\n",
    "            graph_c.add_edge(node, 't', capacity= graph_c.nodes[node]['demand'])\n",
    "            demand += graph_c.nodes[node]['demand']\n",
    "    \n",
    "    flow = myFF(graph_c, 's', 't')[0]\n",
    "    flow_dict = myFF(graph_c, 's', 't')[1]\n",
    "\n",
    "    if supply != demand or flow != demand:\n",
    "        raise nx.NetworkXUnfeasible(\"there is no flow satisfying the demands\")\n",
    "\n",
    "    flow_dict.pop('s', None)\n",
    "    flow_dict.pop('t', None)\n",
    "    for i in flow_dict:\n",
    "        flow_dict[i].pop('s', None)\n",
    "        flow_dict[i].pop('t', None)\n",
    "    \n",
    "    return flow_dict"
   ]
  },
  {
   "cell_type": "markdown",
   "metadata": {},
   "source": [
    "To verify that your solution is correct, implement a function that computes the total flow into each node (which will be negative for supply nodes)."
   ]
  },
  {
   "cell_type": "code",
   "execution_count": 9,
   "metadata": {},
   "outputs": [],
   "source": [
    "def divergence(flow):\n",
    "    \"\"\"Computes the total flow into each node according to the given flow dict.\n",
    "    \n",
    "    Args:\n",
    "        flow: the flow dict recording flow between nodes.\n",
    "        \n",
    "    Returns:\n",
    "        A dict of the net flow into each node.\n",
    "    \"\"\"\n",
    "    # TODO: Implement the function.\n",
    "    \n",
    "    node_flow_dict = {}\n",
    "    for node in flow:\n",
    "        node_flow_dict[node] = 0\n",
    "\n",
    "    for i in flow:\n",
    "        for j in flow[i]:\n",
    "            node_flow_dict[i] -= flow[i][j]\n",
    "            node_flow_dict[j] += flow[i][j]\n",
    "            \n",
    "    return node_flow_dict"
   ]
  },
  {
   "cell_type": "markdown",
   "metadata": {},
   "source": [
    "The following code performs a sanity check on your function (but does not completely confirm correctness)."
   ]
  },
  {
   "cell_type": "code",
   "execution_count": 10,
   "metadata": {},
   "outputs": [],
   "source": [
    "flow = flow_with_demands(G)\n",
    "div = divergence(flow)\n",
    "#print (\"Flow satisfies all demands:\", all(div[n] == G.nodes[n]['demand'] for n in G.nodes()))"
   ]
  }
 ],
 "metadata": {
  "kernelspec": {
   "display_name": "Python 3",
   "language": "python",
   "name": "python3"
  },
  "language_info": {
   "codemirror_mode": {
    "name": "ipython",
    "version": 3
   },
   "file_extension": ".py",
   "mimetype": "text/x-python",
   "name": "python",
   "nbconvert_exporter": "python",
   "pygments_lexer": "ipython3",
   "version": "3.8.5"
  }
 },
 "nbformat": 4,
 "nbformat_minor": 4
}
